{
 "cells": [
  {
   "cell_type": "code",
   "execution_count": null,
   "metadata": {},
   "outputs": [],
   "source": [
    "#NLP - Natural Language Processing - Neuro Lingusitic Programming!"
   ]
  },
  {
   "cell_type": "code",
   "execution_count": 1,
   "metadata": {},
   "outputs": [
    {
     "data": {
      "text/plain": [
       "'\\n1. Stings can be retrived using Index \\n2. Strings are immutable\\n'"
      ]
     },
     "execution_count": 1,
     "metadata": {},
     "output_type": "execute_result"
    }
   ],
   "source": [
    "#Stings \n",
    "\"Winfluentials\"\n",
    "\n",
    "\"\"\"\n",
    "1. Stings can be retrived using Index \n",
    "2. Strings are immutable\n",
    "\"\"\""
   ]
  },
  {
   "cell_type": "code",
   "execution_count": 10,
   "metadata": {},
   "outputs": [],
   "source": [
    "a = \"hari vasi\""
   ]
  },
  {
   "cell_type": "code",
   "execution_count": 3,
   "metadata": {},
   "outputs": [
    {
     "data": {
      "text/plain": [
       "'a'"
      ]
     },
     "execution_count": 3,
     "metadata": {},
     "output_type": "execute_result"
    }
   ],
   "source": [
    "a[6]"
   ]
  },
  {
   "cell_type": "code",
   "execution_count": 4,
   "metadata": {},
   "outputs": [
    {
     "data": {
      "text/plain": [
       "str"
      ]
     },
     "execution_count": 4,
     "metadata": {},
     "output_type": "execute_result"
    }
   ],
   "source": [
    "type(a)"
   ]
  },
  {
   "cell_type": "code",
   "execution_count": 5,
   "metadata": {},
   "outputs": [
    {
     "ename": "TypeError",
     "evalue": "'str' object does not support item assignment",
     "output_type": "error",
     "traceback": [
      "\u001b[1;31m---------------------------------------------------------------------------\u001b[0m",
      "\u001b[1;31mTypeError\u001b[0m                                 Traceback (most recent call last)",
      "\u001b[1;32m<ipython-input-5-c5b2d0bb9b17>\u001b[0m in \u001b[0;36m<module>\u001b[1;34m()\u001b[0m\n\u001b[1;32m----> 1\u001b[1;33m \u001b[0ma\u001b[0m\u001b[1;33m[\u001b[0m\u001b[1;36m6\u001b[0m\u001b[1;33m]\u001b[0m \u001b[1;33m=\u001b[0m \u001b[1;34m'h'\u001b[0m\u001b[1;33m\u001b[0m\u001b[0m\n\u001b[0m",
      "\u001b[1;31mTypeError\u001b[0m: 'str' object does not support item assignment"
     ]
    }
   ],
   "source": [
    "a[6] = 'h'"
   ]
  },
  {
   "cell_type": "code",
   "execution_count": 6,
   "metadata": {},
   "outputs": [],
   "source": [
    "a = {1,2,3,4,5,6}"
   ]
  },
  {
   "cell_type": "code",
   "execution_count": 7,
   "metadata": {},
   "outputs": [
    {
     "data": {
      "text/plain": [
       "set"
      ]
     },
     "execution_count": 7,
     "metadata": {},
     "output_type": "execute_result"
    }
   ],
   "source": [
    "type(a)"
   ]
  },
  {
   "cell_type": "code",
   "execution_count": 8,
   "metadata": {},
   "outputs": [
    {
     "ename": "TypeError",
     "evalue": "'set' object does not support indexing",
     "output_type": "error",
     "traceback": [
      "\u001b[1;31m---------------------------------------------------------------------------\u001b[0m",
      "\u001b[1;31mTypeError\u001b[0m                                 Traceback (most recent call last)",
      "\u001b[1;32m<ipython-input-8-f75b6be7d8e3>\u001b[0m in \u001b[0;36m<module>\u001b[1;34m()\u001b[0m\n\u001b[1;32m----> 1\u001b[1;33m \u001b[0ma\u001b[0m\u001b[1;33m[\u001b[0m\u001b[1;36m3\u001b[0m\u001b[1;33m]\u001b[0m\u001b[1;33m\u001b[0m\u001b[0m\n\u001b[0m",
      "\u001b[1;31mTypeError\u001b[0m: 'set' object does not support indexing"
     ]
    }
   ],
   "source": [
    "a[3]"
   ]
  },
  {
   "cell_type": "code",
   "execution_count": 9,
   "metadata": {},
   "outputs": [
    {
     "ename": "TypeError",
     "evalue": "'set' object does not support item assignment",
     "output_type": "error",
     "traceback": [
      "\u001b[1;31m---------------------------------------------------------------------------\u001b[0m",
      "\u001b[1;31mTypeError\u001b[0m                                 Traceback (most recent call last)",
      "\u001b[1;32m<ipython-input-9-b518cc038c09>\u001b[0m in \u001b[0;36m<module>\u001b[1;34m()\u001b[0m\n\u001b[1;32m----> 1\u001b[1;33m \u001b[0ma\u001b[0m\u001b[1;33m[\u001b[0m\u001b[1;36m3\u001b[0m\u001b[1;33m]\u001b[0m \u001b[1;33m=\u001b[0m \u001b[1;34m't'\u001b[0m\u001b[1;33m\u001b[0m\u001b[0m\n\u001b[0m",
      "\u001b[1;31mTypeError\u001b[0m: 'set' object does not support item assignment"
     ]
    }
   ],
   "source": [
    "a[3] = 't'"
   ]
  },
  {
   "cell_type": "code",
   "execution_count": 11,
   "metadata": {},
   "outputs": [
    {
     "data": {
      "text/plain": [
       "'hari vasi'"
      ]
     },
     "execution_count": 11,
     "metadata": {},
     "output_type": "execute_result"
    }
   ],
   "source": [
    "a"
   ]
  },
  {
   "cell_type": "code",
   "execution_count": 12,
   "metadata": {},
   "outputs": [
    {
     "data": {
      "text/plain": [
       "'Hari vasi'"
      ]
     },
     "execution_count": 12,
     "metadata": {},
     "output_type": "execute_result"
    }
   ],
   "source": [
    "a.capitalize()"
   ]
  },
  {
   "cell_type": "code",
   "execution_count": 13,
   "metadata": {},
   "outputs": [
    {
     "data": {
      "text/plain": [
       "'HARI VASI'"
      ]
     },
     "execution_count": 13,
     "metadata": {},
     "output_type": "execute_result"
    }
   ],
   "source": [
    "a.upper()"
   ]
  },
  {
   "cell_type": "code",
   "execution_count": 17,
   "metadata": {
    "collapsed": true
   },
   "outputs": [
    {
     "data": {
      "text/plain": [
       "{'037': 'cp037',\n",
       " '1026': 'cp1026',\n",
       " '1125': 'cp1125',\n",
       " '1140': 'cp1140',\n",
       " '1250': 'cp1250',\n",
       " '1251': 'cp1251',\n",
       " '1252': 'cp1252',\n",
       " '1253': 'cp1253',\n",
       " '1254': 'cp1254',\n",
       " '1255': 'cp1255',\n",
       " '1256': 'cp1256',\n",
       " '1257': 'cp1257',\n",
       " '1258': 'cp1258',\n",
       " '273': 'cp273',\n",
       " '424': 'cp424',\n",
       " '437': 'cp437',\n",
       " '500': 'cp500',\n",
       " '646': 'ascii',\n",
       " '775': 'cp775',\n",
       " '850': 'cp850',\n",
       " '852': 'cp852',\n",
       " '855': 'cp855',\n",
       " '857': 'cp857',\n",
       " '858': 'cp858',\n",
       " '860': 'cp860',\n",
       " '861': 'cp861',\n",
       " '862': 'cp862',\n",
       " '863': 'cp863',\n",
       " '864': 'cp864',\n",
       " '865': 'cp865',\n",
       " '866': 'cp866',\n",
       " '869': 'cp869',\n",
       " '8859': 'latin_1',\n",
       " '932': 'cp932',\n",
       " '936': 'gbk',\n",
       " '949': 'cp949',\n",
       " '950': 'cp950',\n",
       " 'ansi': 'mbcs',\n",
       " 'ansi_x3.4_1968': 'ascii',\n",
       " 'ansi_x3.4_1986': 'ascii',\n",
       " 'ansi_x3_4_1968': 'ascii',\n",
       " 'arabic': 'iso8859_6',\n",
       " 'asmo_708': 'iso8859_6',\n",
       " 'base64': 'base64_codec',\n",
       " 'base_64': 'base64_codec',\n",
       " 'big5_hkscs': 'big5hkscs',\n",
       " 'big5_tw': 'big5',\n",
       " 'bz2': 'bz2_codec',\n",
       " 'chinese': 'gb2312',\n",
       " 'cp1361': 'johab',\n",
       " 'cp154': 'ptcp154',\n",
       " 'cp367': 'ascii',\n",
       " 'cp819': 'latin_1',\n",
       " 'cp866u': 'cp1125',\n",
       " 'cp936': 'gbk',\n",
       " 'cp_gr': 'cp869',\n",
       " 'cp_is': 'cp861',\n",
       " 'csHPRoman8': 'hp_roman8',\n",
       " 'csascii': 'ascii',\n",
       " 'csbig5': 'big5',\n",
       " 'csibm037': 'cp037',\n",
       " 'csibm1026': 'cp1026',\n",
       " 'csibm273': 'cp273',\n",
       " 'csibm424': 'cp424',\n",
       " 'csibm500': 'cp500',\n",
       " 'csibm855': 'cp855',\n",
       " 'csibm857': 'cp857',\n",
       " 'csibm858': 'cp858',\n",
       " 'csibm860': 'cp860',\n",
       " 'csibm861': 'cp861',\n",
       " 'csibm863': 'cp863',\n",
       " 'csibm864': 'cp864',\n",
       " 'csibm865': 'cp865',\n",
       " 'csibm866': 'cp866',\n",
       " 'csibm869': 'cp869',\n",
       " 'csiso2022jp': 'iso2022_jp',\n",
       " 'csiso2022kr': 'iso2022_kr',\n",
       " 'csiso58gb231280': 'gb2312',\n",
       " 'csisolatin1': 'latin_1',\n",
       " 'csisolatin2': 'iso8859_2',\n",
       " 'csisolatin3': 'iso8859_3',\n",
       " 'csisolatin4': 'iso8859_4',\n",
       " 'csisolatin5': 'iso8859_9',\n",
       " 'csisolatin6': 'iso8859_10',\n",
       " 'csisolatinarabic': 'iso8859_6',\n",
       " 'csisolatincyrillic': 'iso8859_5',\n",
       " 'csisolatingreek': 'iso8859_7',\n",
       " 'csisolatinhebrew': 'iso8859_8',\n",
       " 'cskoi8r': 'koi8_r',\n",
       " 'cspc775baltic': 'cp775',\n",
       " 'cspc850multilingual': 'cp850',\n",
       " 'cspc862latinhebrew': 'cp862',\n",
       " 'cspc8codepage437': 'cp437',\n",
       " 'cspcp852': 'cp852',\n",
       " 'csptcp154': 'ptcp154',\n",
       " 'csshiftjis': 'shift_jis',\n",
       " 'cyrillic': 'iso8859_5',\n",
       " 'cyrillic_asian': 'ptcp154',\n",
       " 'dbcs': 'mbcs',\n",
       " 'ebcdic_cp_be': 'cp500',\n",
       " 'ebcdic_cp_ca': 'cp037',\n",
       " 'ebcdic_cp_ch': 'cp500',\n",
       " 'ebcdic_cp_he': 'cp424',\n",
       " 'ebcdic_cp_nl': 'cp037',\n",
       " 'ebcdic_cp_us': 'cp037',\n",
       " 'ebcdic_cp_wt': 'cp037',\n",
       " 'ecma_114': 'iso8859_6',\n",
       " 'ecma_118': 'iso8859_7',\n",
       " 'elot_928': 'iso8859_7',\n",
       " 'euc_cn': 'gb2312',\n",
       " 'euc_jis2004': 'euc_jis_2004',\n",
       " 'euccn': 'gb2312',\n",
       " 'eucgb2312_cn': 'gb2312',\n",
       " 'eucjis2004': 'euc_jis_2004',\n",
       " 'eucjisx0213': 'euc_jisx0213',\n",
       " 'eucjp': 'euc_jp',\n",
       " 'euckr': 'euc_kr',\n",
       " 'gb18030_2000': 'gb18030',\n",
       " 'gb2312_1980': 'gb2312',\n",
       " 'gb2312_80': 'gb2312',\n",
       " 'greek': 'iso8859_7',\n",
       " 'greek8': 'iso8859_7',\n",
       " 'hebrew': 'iso8859_8',\n",
       " 'hex': 'hex_codec',\n",
       " 'hkscs': 'big5hkscs',\n",
       " 'hz_gb': 'hz',\n",
       " 'hz_gb_2312': 'hz',\n",
       " 'hzgb': 'hz',\n",
       " 'ibm037': 'cp037',\n",
       " 'ibm039': 'cp037',\n",
       " 'ibm1026': 'cp1026',\n",
       " 'ibm1125': 'cp1125',\n",
       " 'ibm1140': 'cp1140',\n",
       " 'ibm273': 'cp273',\n",
       " 'ibm367': 'ascii',\n",
       " 'ibm424': 'cp424',\n",
       " 'ibm437': 'cp437',\n",
       " 'ibm500': 'cp500',\n",
       " 'ibm775': 'cp775',\n",
       " 'ibm819': 'latin_1',\n",
       " 'ibm850': 'cp850',\n",
       " 'ibm852': 'cp852',\n",
       " 'ibm855': 'cp855',\n",
       " 'ibm857': 'cp857',\n",
       " 'ibm858': 'cp858',\n",
       " 'ibm860': 'cp860',\n",
       " 'ibm861': 'cp861',\n",
       " 'ibm862': 'cp862',\n",
       " 'ibm863': 'cp863',\n",
       " 'ibm864': 'cp864',\n",
       " 'ibm865': 'cp865',\n",
       " 'ibm866': 'cp866',\n",
       " 'ibm869': 'cp869',\n",
       " 'iso2022jp': 'iso2022_jp',\n",
       " 'iso2022jp_1': 'iso2022_jp_1',\n",
       " 'iso2022jp_2': 'iso2022_jp_2',\n",
       " 'iso2022jp_2004': 'iso2022_jp_2004',\n",
       " 'iso2022jp_3': 'iso2022_jp_3',\n",
       " 'iso2022jp_ext': 'iso2022_jp_ext',\n",
       " 'iso2022kr': 'iso2022_kr',\n",
       " 'iso646_us': 'ascii',\n",
       " 'iso8859': 'latin_1',\n",
       " 'iso8859_1': 'latin_1',\n",
       " 'iso_2022_jp': 'iso2022_jp',\n",
       " 'iso_2022_jp_1': 'iso2022_jp_1',\n",
       " 'iso_2022_jp_2': 'iso2022_jp_2',\n",
       " 'iso_2022_jp_2004': 'iso2022_jp_2004',\n",
       " 'iso_2022_jp_3': 'iso2022_jp_3',\n",
       " 'iso_2022_jp_ext': 'iso2022_jp_ext',\n",
       " 'iso_2022_kr': 'iso2022_kr',\n",
       " 'iso_646.irv_1991': 'ascii',\n",
       " 'iso_8859_1': 'latin_1',\n",
       " 'iso_8859_10': 'iso8859_10',\n",
       " 'iso_8859_10_1992': 'iso8859_10',\n",
       " 'iso_8859_11': 'iso8859_11',\n",
       " 'iso_8859_11_2001': 'iso8859_11',\n",
       " 'iso_8859_13': 'iso8859_13',\n",
       " 'iso_8859_14': 'iso8859_14',\n",
       " 'iso_8859_14_1998': 'iso8859_14',\n",
       " 'iso_8859_15': 'iso8859_15',\n",
       " 'iso_8859_16': 'iso8859_16',\n",
       " 'iso_8859_16_2001': 'iso8859_16',\n",
       " 'iso_8859_1_1987': 'latin_1',\n",
       " 'iso_8859_2': 'iso8859_2',\n",
       " 'iso_8859_2_1987': 'iso8859_2',\n",
       " 'iso_8859_3': 'iso8859_3',\n",
       " 'iso_8859_3_1988': 'iso8859_3',\n",
       " 'iso_8859_4': 'iso8859_4',\n",
       " 'iso_8859_4_1988': 'iso8859_4',\n",
       " 'iso_8859_5': 'iso8859_5',\n",
       " 'iso_8859_5_1988': 'iso8859_5',\n",
       " 'iso_8859_6': 'iso8859_6',\n",
       " 'iso_8859_6_1987': 'iso8859_6',\n",
       " 'iso_8859_7': 'iso8859_7',\n",
       " 'iso_8859_7_1987': 'iso8859_7',\n",
       " 'iso_8859_8': 'iso8859_8',\n",
       " 'iso_8859_8_1988': 'iso8859_8',\n",
       " 'iso_8859_9': 'iso8859_9',\n",
       " 'iso_8859_9_1989': 'iso8859_9',\n",
       " 'iso_celtic': 'iso8859_14',\n",
       " 'iso_ir_100': 'latin_1',\n",
       " 'iso_ir_101': 'iso8859_2',\n",
       " 'iso_ir_109': 'iso8859_3',\n",
       " 'iso_ir_110': 'iso8859_4',\n",
       " 'iso_ir_126': 'iso8859_7',\n",
       " 'iso_ir_127': 'iso8859_6',\n",
       " 'iso_ir_138': 'iso8859_8',\n",
       " 'iso_ir_144': 'iso8859_5',\n",
       " 'iso_ir_148': 'iso8859_9',\n",
       " 'iso_ir_157': 'iso8859_10',\n",
       " 'iso_ir_166': 'tis_620',\n",
       " 'iso_ir_199': 'iso8859_14',\n",
       " 'iso_ir_226': 'iso8859_16',\n",
       " 'iso_ir_58': 'gb2312',\n",
       " 'iso_ir_6': 'ascii',\n",
       " 'jisx0213': 'euc_jis_2004',\n",
       " 'korean': 'euc_kr',\n",
       " 'ks_c_5601': 'euc_kr',\n",
       " 'ks_c_5601_1987': 'euc_kr',\n",
       " 'ks_x_1001': 'euc_kr',\n",
       " 'ksc5601': 'euc_kr',\n",
       " 'ksx1001': 'euc_kr',\n",
       " 'kz_1048': 'kz1048',\n",
       " 'l1': 'latin_1',\n",
       " 'l10': 'iso8859_16',\n",
       " 'l2': 'iso8859_2',\n",
       " 'l3': 'iso8859_3',\n",
       " 'l4': 'iso8859_4',\n",
       " 'l5': 'iso8859_9',\n",
       " 'l6': 'iso8859_10',\n",
       " 'l7': 'iso8859_13',\n",
       " 'l8': 'iso8859_14',\n",
       " 'l9': 'iso8859_15',\n",
       " 'latin': 'latin_1',\n",
       " 'latin1': 'latin_1',\n",
       " 'latin10': 'iso8859_16',\n",
       " 'latin2': 'iso8859_2',\n",
       " 'latin3': 'iso8859_3',\n",
       " 'latin4': 'iso8859_4',\n",
       " 'latin5': 'iso8859_9',\n",
       " 'latin6': 'iso8859_10',\n",
       " 'latin7': 'iso8859_13',\n",
       " 'latin8': 'iso8859_14',\n",
       " 'latin9': 'iso8859_15',\n",
       " 'maccentraleurope': 'mac_latin2',\n",
       " 'maccyrillic': 'mac_cyrillic',\n",
       " 'macgreek': 'mac_greek',\n",
       " 'maciceland': 'mac_iceland',\n",
       " 'macintosh': 'mac_roman',\n",
       " 'maclatin2': 'mac_latin2',\n",
       " 'macroman': 'mac_roman',\n",
       " 'macturkish': 'mac_turkish',\n",
       " 'ms1361': 'johab',\n",
       " 'ms932': 'cp932',\n",
       " 'ms936': 'gbk',\n",
       " 'ms949': 'cp949',\n",
       " 'ms950': 'cp950',\n",
       " 'ms_kanji': 'cp932',\n",
       " 'mskanji': 'cp932',\n",
       " 'pt154': 'ptcp154',\n",
       " 'quopri': 'quopri_codec',\n",
       " 'quoted_printable': 'quopri_codec',\n",
       " 'quotedprintable': 'quopri_codec',\n",
       " 'r8': 'hp_roman8',\n",
       " 'rk1048': 'kz1048',\n",
       " 'roman8': 'hp_roman8',\n",
       " 'rot13': 'rot_13',\n",
       " 'ruscii': 'cp1125',\n",
       " 's_jis': 'shift_jis',\n",
       " 's_jis_2004': 'shift_jis_2004',\n",
       " 's_jisx0213': 'shift_jisx0213',\n",
       " 'shiftjis': 'shift_jis',\n",
       " 'shiftjis2004': 'shift_jis_2004',\n",
       " 'shiftjisx0213': 'shift_jisx0213',\n",
       " 'sjis': 'shift_jis',\n",
       " 'sjis_2004': 'shift_jis_2004',\n",
       " 'sjisx0213': 'shift_jisx0213',\n",
       " 'strk1048_2002': 'kz1048',\n",
       " 'thai': 'iso8859_11',\n",
       " 'tis260': 'tactis',\n",
       " 'tis620': 'tis_620',\n",
       " 'tis_620_0': 'tis_620',\n",
       " 'tis_620_2529_0': 'tis_620',\n",
       " 'tis_620_2529_1': 'tis_620',\n",
       " 'u16': 'utf_16',\n",
       " 'u32': 'utf_32',\n",
       " 'u7': 'utf_7',\n",
       " 'u8': 'utf_8',\n",
       " 'u_jis': 'euc_jp',\n",
       " 'uhc': 'cp949',\n",
       " 'ujis': 'euc_jp',\n",
       " 'unicode_1_1_utf_7': 'utf_7',\n",
       " 'unicodebigunmarked': 'utf_16_be',\n",
       " 'unicodelittleunmarked': 'utf_16_le',\n",
       " 'us': 'ascii',\n",
       " 'us_ascii': 'ascii',\n",
       " 'utf': 'utf_8',\n",
       " 'utf16': 'utf_16',\n",
       " 'utf32': 'utf_32',\n",
       " 'utf7': 'utf_7',\n",
       " 'utf8': 'utf_8',\n",
       " 'utf8_ucs2': 'utf_8',\n",
       " 'utf8_ucs4': 'utf_8',\n",
       " 'utf_16be': 'utf_16_be',\n",
       " 'utf_16le': 'utf_16_le',\n",
       " 'utf_32be': 'utf_32_be',\n",
       " 'utf_32le': 'utf_32_le',\n",
       " 'uu': 'uu_codec',\n",
       " 'windows_1250': 'cp1250',\n",
       " 'windows_1251': 'cp1251',\n",
       " 'windows_1252': 'cp1252',\n",
       " 'windows_1253': 'cp1253',\n",
       " 'windows_1254': 'cp1254',\n",
       " 'windows_1255': 'cp1255',\n",
       " 'windows_1256': 'cp1256',\n",
       " 'windows_1257': 'cp1257',\n",
       " 'windows_1258': 'cp1258',\n",
       " 'x_mac_japanese': 'shift_jis',\n",
       " 'x_mac_korean': 'euc_kr',\n",
       " 'x_mac_simp_chinese': 'gb2312',\n",
       " 'x_mac_trad_chinese': 'big5',\n",
       " 'zip': 'zlib_codec',\n",
       " 'zlib': 'zlib_codec'}"
      ]
     },
     "execution_count": 17,
     "metadata": {},
     "output_type": "execute_result"
    }
   ],
   "source": [
    "#encoding\n",
    "from encodings.aliases import aliases\n",
    "aliases\n",
    "#UTF-8 Encoding - All the text are converted and stored in UTF-8 Encoding inside Python"
   ]
  },
  {
   "cell_type": "code",
   "execution_count": 22,
   "metadata": {},
   "outputs": [],
   "source": [
    "#UTF - Unicode Transformation Format \n",
    "# all the data or characters are saved as 1-4 (one byte code units) 1byte = 8bits\n",
    "review = \"The Headphones are Awesome. But the Looks is not good\""
   ]
  },
  {
   "cell_type": "markdown",
   "metadata": {},
   "source": [
    "## Split"
   ]
  },
  {
   "cell_type": "code",
   "execution_count": 20,
   "metadata": {},
   "outputs": [
    {
     "data": {
      "text/plain": [
       "['The Headphones are Awesome', ' I totally loved it']"
      ]
     },
     "execution_count": 20,
     "metadata": {},
     "output_type": "execute_result"
    }
   ],
   "source": [
    "review.split('.')"
   ]
  },
  {
   "cell_type": "code",
   "execution_count": 24,
   "metadata": {},
   "outputs": [
    {
     "data": {
      "text/plain": [
       "True"
      ]
     },
     "execution_count": 24,
     "metadata": {},
     "output_type": "execute_result"
    }
   ],
   "source": [
    "\"good\" in review"
   ]
  },
  {
   "cell_type": "code",
   "execution_count": 26,
   "metadata": {},
   "outputs": [
    {
     "data": {
      "text/plain": [
       "False"
      ]
     },
     "execution_count": 26,
     "metadata": {},
     "output_type": "execute_result"
    }
   ],
   "source": [
    "\"mac\" in review"
   ]
  },
  {
   "cell_type": "markdown",
   "metadata": {},
   "source": [
    "## Strip"
   ]
  },
  {
   "cell_type": "code",
   "execution_count": 27,
   "metadata": {},
   "outputs": [],
   "source": [
    "review = \"                                              I hate this product. waste of money\""
   ]
  },
  {
   "cell_type": "code",
   "execution_count": 28,
   "metadata": {},
   "outputs": [
    {
     "data": {
      "text/plain": [
       "'I hate this product. waste of money'"
      ]
     },
     "execution_count": 28,
     "metadata": {},
     "output_type": "execute_result"
    }
   ],
   "source": [
    "#left strip\n",
    "review.lstrip()"
   ]
  },
  {
   "cell_type": "code",
   "execution_count": 37,
   "metadata": {},
   "outputs": [],
   "source": [
    "review = \" *************((((())))))))&&&&&&&&&&I hate this product. waste of money\""
   ]
  },
  {
   "cell_type": "code",
   "execution_count": 38,
   "metadata": {},
   "outputs": [
    {
     "data": {
      "text/plain": [
       "'I hate this product. waste of money'"
      ]
     },
     "execution_count": 38,
     "metadata": {},
     "output_type": "execute_result"
    }
   ],
   "source": [
    "#left strip\n",
    "review.lstrip(' *()&')"
   ]
  },
  {
   "cell_type": "code",
   "execution_count": 41,
   "metadata": {},
   "outputs": [],
   "source": [
    "review = \"I hate this product. waste of money *************((((())))))))&&&&&&&&&&\""
   ]
  },
  {
   "cell_type": "code",
   "execution_count": 42,
   "metadata": {},
   "outputs": [
    {
     "data": {
      "text/plain": [
       "'I hate this product. waste of money'"
      ]
     },
     "execution_count": 42,
     "metadata": {},
     "output_type": "execute_result"
    }
   ],
   "source": [
    "#right strip\n",
    "review.rstrip(' *()&')"
   ]
  },
  {
   "cell_type": "code",
   "execution_count": 43,
   "metadata": {},
   "outputs": [
    {
     "data": {
      "text/plain": [
       "'I hate this product. waste of money'"
      ]
     },
     "execution_count": 43,
     "metadata": {},
     "output_type": "execute_result"
    }
   ],
   "source": [
    "review = \"        I hate this product. waste of money         \"\n",
    "review.strip()"
   ]
  },
  {
   "cell_type": "code",
   "execution_count": 47,
   "metadata": {},
   "outputs": [],
   "source": [
    "review = \"I         hate          this          product.          waste of             money\""
   ]
  },
  {
   "cell_type": "code",
   "execution_count": 51,
   "metadata": {},
   "outputs": [
    {
     "data": {
      "text/plain": [
       "'I&hate&this&product.&waste&of&money'"
      ]
     },
     "execution_count": 51,
     "metadata": {},
     "output_type": "execute_result"
    }
   ],
   "source": [
    "\"&\".join(review.split())"
   ]
  },
  {
   "cell_type": "markdown",
   "metadata": {},
   "source": [
    "## Regular Expressions"
   ]
  },
  {
   "cell_type": "code",
   "execution_count": 80,
   "metadata": {},
   "outputs": [],
   "source": [
    "import re"
   ]
  },
  {
   "cell_type": "code",
   "execution_count": 81,
   "metadata": {},
   "outputs": [],
   "source": [
    "s1 = 'Python is an excellent Language 9940987645'\n",
    "s2 = \"Winfluentials is one of the best places to learn python\""
   ]
  },
  {
   "cell_type": "code",
   "execution_count": 99,
   "metadata": {},
   "outputs": [],
   "source": [
    "Pattern = '\\d[0-9][0-9][0-9][0-9][0-9][0-9][0-9][0-9][0-9]'"
   ]
  },
  {
   "cell_type": "code",
   "execution_count": 100,
   "metadata": {},
   "outputs": [],
   "source": [
    "search = re.search(Pattern,s1,re.IGNORECASE)\n",
    "match = re.match(Pattern,s1,re.IGNORECASE)"
   ]
  },
  {
   "cell_type": "code",
   "execution_count": 84,
   "metadata": {},
   "outputs": [
    {
     "ename": "AttributeError",
     "evalue": "'NoneType' object has no attribute 'group'",
     "output_type": "error",
     "traceback": [
      "\u001b[1;31m---------------------------------------------------------------------------\u001b[0m",
      "\u001b[1;31mAttributeError\u001b[0m                            Traceback (most recent call last)",
      "\u001b[1;32m<ipython-input-84-4d972d6c40f1>\u001b[0m in \u001b[0;36m<module>\u001b[1;34m()\u001b[0m\n\u001b[1;32m----> 1\u001b[1;33m \u001b[0mmatch\u001b[0m\u001b[1;33m.\u001b[0m\u001b[0mgroup\u001b[0m\u001b[1;33m(\u001b[0m\u001b[1;36m0\u001b[0m\u001b[1;33m)\u001b[0m\u001b[1;33m\u001b[0m\u001b[0m\n\u001b[0m",
      "\u001b[1;31mAttributeError\u001b[0m: 'NoneType' object has no attribute 'group'"
     ]
    }
   ],
   "source": [
    "match.group(0)"
   ]
  },
  {
   "cell_type": "code",
   "execution_count": 101,
   "metadata": {},
   "outputs": [
    {
     "data": {
      "text/plain": [
       "'9940987645'"
      ]
     },
     "execution_count": 101,
     "metadata": {},
     "output_type": "execute_result"
    }
   ],
   "source": [
    "search.group(0)"
   ]
  },
  {
   "cell_type": "code",
   "execution_count": 92,
   "metadata": {},
   "outputs": [],
   "source": [
    "s1 = '9940987645 Python is an excellent Language'\n",
    "s2 = \"Winfluentials is one of the best places 9940987645 to learn python\""
   ]
  },
  {
   "cell_type": "code",
   "execution_count": 97,
   "metadata": {},
   "outputs": [],
   "source": [
    "match = re.match(Pattern,s1,re.IGNORECASE)"
   ]
  },
  {
   "cell_type": "code",
   "execution_count": 98,
   "metadata": {},
   "outputs": [
    {
     "data": {
      "text/plain": [
       "'9940987645'"
      ]
     },
     "execution_count": 98,
     "metadata": {},
     "output_type": "execute_result"
    }
   ],
   "source": [
    "match.group(0)"
   ]
  },
  {
   "cell_type": "markdown",
   "metadata": {},
   "source": [
    "'\\d' - Match any digits [0-9]\n",
    "\n",
    "\n",
    "'\\D' - Match any non digits [A-Z][a-z]\n",
    "\n",
    "'\\s' - Match any white space\n",
    "\n",
    "'\\Z' - Match any pattern at the end of the string \n",
    "\n",
    "\n",
    "^ - Match any pattern at the beginning"
   ]
  },
  {
   "cell_type": "code",
   "execution_count": null,
   "metadata": {},
   "outputs": [],
   "source": [
    "pattern.findall(sentence)"
   ]
  },
  {
   "cell_type": "code",
   "execution_count": null,
   "metadata": {},
   "outputs": [],
   "source": [
    "Write a function\n",
    "Input: 'Hari Completed python &@#^@#^#@^ Course #@#@'\n",
    "\n",
    "Output: 'Hari completed python Course'"
   ]
  },
  {
   "cell_type": "code",
   "execution_count": 110,
   "metadata": {},
   "outputs": [],
   "source": [
    "def clean_sentence(string):\n",
    "    pattern = re.compile(\"[a-zA-Z0-9.]+\")\n",
    "    string = pattern.findall(string)\n",
    "    return \" \".join(string)"
   ]
  },
  {
   "cell_type": "code",
   "execution_count": 111,
   "metadata": {},
   "outputs": [
    {
     "data": {
      "text/plain": [
       "'Hari Completed python Course'"
      ]
     },
     "execution_count": 111,
     "metadata": {},
     "output_type": "execute_result"
    }
   ],
   "source": [
    "clean_sentence('Hari Completed python &@#^@#^#@^ Course #@#@')"
   ]
  },
  {
   "cell_type": "code",
   "execution_count": 112,
   "metadata": {},
   "outputs": [],
   "source": [
    "## Sub"
   ]
  },
  {
   "cell_type": "code",
   "execution_count": 114,
   "metadata": {},
   "outputs": [
    {
     "data": {
      "text/plain": [
       "'\\\\d[0-9][0-9][0-9][0-9][0-9][0-9][0-9][0-9][0-9]'"
      ]
     },
     "execution_count": 114,
     "metadata": {},
     "output_type": "execute_result"
    }
   ],
   "source": [
    "Pattern "
   ]
  },
  {
   "cell_type": "code",
   "execution_count": 116,
   "metadata": {},
   "outputs": [
    {
     "data": {
      "text/plain": [
       "'Phone Num Python is an excellent Language'"
      ]
     },
     "execution_count": 116,
     "metadata": {},
     "output_type": "execute_result"
    }
   ],
   "source": [
    "re.sub(Pattern, 'Phone Num',s1,flags = re.I)"
   ]
  },
  {
   "cell_type": "code",
   "execution_count": null,
   "metadata": {},
   "outputs": [],
   "source": [
    "1. Data Collection \n",
    "2. Data Cleaning\n",
    "3. Data Manipulation or Data Transformation \n",
    "4. Dimentionality reduction \n",
    "5. Prediction"
   ]
  },
  {
   "cell_type": "markdown",
   "metadata": {},
   "source": [
    "## NLTK - Natural Language Processing Tool Kit"
   ]
  },
  {
   "cell_type": "code",
   "execution_count": null,
   "metadata": {},
   "outputs": [],
   "source": [
    "!pip install nltk \n",
    "!conda install -c nltk --y"
   ]
  },
  {
   "cell_type": "code",
   "execution_count": 117,
   "metadata": {},
   "outputs": [],
   "source": [
    "import nltk"
   ]
  },
  {
   "cell_type": "code",
   "execution_count": 120,
   "metadata": {},
   "outputs": [],
   "source": [
    "review= \"Hari completed python Course. He works well\""
   ]
  },
  {
   "cell_type": "code",
   "execution_count": 121,
   "metadata": {},
   "outputs": [],
   "source": [
    "sent = nltk.sent_tokenize(review)"
   ]
  },
  {
   "cell_type": "code",
   "execution_count": 122,
   "metadata": {},
   "outputs": [
    {
     "data": {
      "text/plain": [
       "['Hari completed python Course.', 'He works well']"
      ]
     },
     "execution_count": 122,
     "metadata": {},
     "output_type": "execute_result"
    }
   ],
   "source": [
    "sent"
   ]
  },
  {
   "cell_type": "code",
   "execution_count": 123,
   "metadata": {},
   "outputs": [],
   "source": [
    "word = nltk.word_tokenize(review)"
   ]
  },
  {
   "cell_type": "code",
   "execution_count": 124,
   "metadata": {},
   "outputs": [
    {
     "data": {
      "text/plain": [
       "['Hari', 'completed', 'python', 'Course', '.', 'He', 'works', 'well']"
      ]
     },
     "execution_count": 124,
     "metadata": {},
     "output_type": "execute_result"
    }
   ],
   "source": [
    "word"
   ]
  },
  {
   "cell_type": "code",
   "execution_count": null,
   "metadata": {},
   "outputs": [],
   "source": []
  }
 ],
 "metadata": {
  "kernelspec": {
   "display_name": "Python 3",
   "language": "python",
   "name": "python3"
  },
  "language_info": {
   "codemirror_mode": {
    "name": "ipython",
    "version": 3
   },
   "file_extension": ".py",
   "mimetype": "text/x-python",
   "name": "python",
   "nbconvert_exporter": "python",
   "pygments_lexer": "ipython3",
   "version": "3.7.0"
  }
 },
 "nbformat": 4,
 "nbformat_minor": 2
}
